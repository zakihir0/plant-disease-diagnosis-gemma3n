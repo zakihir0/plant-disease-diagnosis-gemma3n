{
 "cells": [
  {
   "cell_type": "code",
   "execution_count": null,
   "id": "f8b932e4",
   "metadata": {
    "vscode": {
     "languageId": "plaintext"
    }
   },
   "outputs": [],
   "source": [
    "!pip uninstall -y pygobject gradient gradient-utils\n",
    "!pip install --no-cache-dir --upgrade packaging==24.2\n",
    "!pip install --no-deps bitsandbytes accelerate xformers==0.0.29.post3 peft==0.16.0 trl triton cut_cross_entropy unsloth_zoo\n",
    "!pip install --upgrade bitsandbytes\n",
    "!pip install triton==3.2.0\n",
    "!pip install pip3-autoremove\n",
    "!pip install torch torchvision torchaudio --index-url https://download.pytorch.org/whl/cu124\n",
    "!pip install -U unsloth\n",
    "!pip install faiss-cpu\n",
    "!pip install sentence-transformers\n",
    "!pip install wikipedia\n",
    "# !pip install --no-deps git+https://github.com/huggingface/transformers.git\n",
    "!pip install transformers==4.53.3\n",
    "!pip install --no-deps --upgrade timm\n",
    "!pip uninstall -y deepspeed\n",
    "!pip install deepspeed==0.14.4\n",
    "!pip install tf-keras\n",
    "!pip install --upgrade sentence-transformers"
   ]
  },
  {
   "cell_type": "code",
   "execution_count": null,
   "id": "6754cf3f",
   "metadata": {
    "vscode": {
     "languageId": "plaintext"
    }
   },
   "outputs": [],
   "source": [
    "import os\n",
    "os.environ[\"CUDA_VISIBLE_DEVICES\"] = \"0\"\n",
    "os.environ[\"TORCH_COMPILE\"] = \"0\"\n",
    "os.environ[\"UNSLOTH_DISABLE_TORCH_COMPILE\"] = \"1\" \n",
    "\n",
    "import json\n",
    "import torch\n",
    "import torch.nn as nn\n",
    "import time\n",
    "from PIL import Image\n",
    "from tqdm import tqdm\n",
    "from unsloth import FastModel, FastVisionModel\n",
    "from unsloth.trainer import UnslothVisionDataCollator\n",
    "from transformers import TextStreamer\n",
    "from datasets import Dataset, Image as HFImage, load_dataset\n",
    "import torch\n",
    "import torch.nn.functional as F\n",
    "\n",
    "import torch.nn as nn\n",
    "from transformers import Trainer, TrainingArguments, AutoProcessor\n",
    "from torch.utils.data import DataLoader, Dataset\n",
    "from transformers.modeling_outputs import SequenceClassifierOutput\n",
    "import numpy as np\n",
    "from sklearn.metrics import accuracy_score, confusion_matrix, classification_report\n",
    "from torchvision import transforms, datasets\n",
    "import pandas as pd\n",
    "import random"
   ]
  }
 ],
 "metadata": {
  "language_info": {
   "name": "python"
  }
 },
 "nbformat": 4,
 "nbformat_minor": 5
}
